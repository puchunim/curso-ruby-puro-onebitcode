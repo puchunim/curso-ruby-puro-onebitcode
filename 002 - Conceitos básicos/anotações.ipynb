{
 "cells": [
  {
   "cell_type": "markdown",
   "metadata": {},
   "source": [
    "<style>h1 {color: CornflowerBlue} h2 {color: DeepSkyBlue} h3 {color: White}</style>\n",
    "# Aula 2 - Conceitos básicos\n",
    "## Tipos de dados\n"
   ]
  }
 ],
 "metadata": {
  "language_info": {
   "name": "python"
  },
  "orig_nbformat": 4
 },
 "nbformat": 4,
 "nbformat_minor": 2
}
